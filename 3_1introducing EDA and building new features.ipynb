{
 "cells": [
  {
   "cell_type": "markdown",
   "metadata": {},
   "source": [
    "# **Introducing EDA(Exploratory Data Analysis)**"
   ]
  },
  {
   "cell_type": "markdown",
   "metadata": {},
   "source": [
    "**Es necesario ya tener una idea de que significa cada columna y en el nivel en el que esta cada columna**"
   ]
  },
  {
   "cell_type": "code",
   "execution_count": 1,
   "metadata": {},
   "outputs": [
    {
     "data": {
      "text/html": [
       "<div>\n",
       "<style scoped>\n",
       "    .dataframe tbody tr th:only-of-type {\n",
       "        vertical-align: middle;\n",
       "    }\n",
       "\n",
       "    .dataframe tbody tr th {\n",
       "        vertical-align: top;\n",
       "    }\n",
       "\n",
       "    .dataframe thead th {\n",
       "        text-align: right;\n",
       "    }\n",
       "</style>\n",
       "<table border=\"1\" class=\"dataframe\">\n",
       "  <thead>\n",
       "    <tr style=\"text-align: right;\">\n",
       "      <th></th>\n",
       "      <th>sepal_length</th>\n",
       "      <th>sepal_width</th>\n",
       "      <th>petal_length</th>\n",
       "      <th>petal_width</th>\n",
       "    </tr>\n",
       "  </thead>\n",
       "  <tbody>\n",
       "    <tr>\n",
       "      <th>count</th>\n",
       "      <td>150.000000</td>\n",
       "      <td>150.000000</td>\n",
       "      <td>150.000000</td>\n",
       "      <td>150.000000</td>\n",
       "    </tr>\n",
       "    <tr>\n",
       "      <th>mean</th>\n",
       "      <td>5.843333</td>\n",
       "      <td>3.054000</td>\n",
       "      <td>3.758667</td>\n",
       "      <td>1.198667</td>\n",
       "    </tr>\n",
       "    <tr>\n",
       "      <th>std</th>\n",
       "      <td>0.828066</td>\n",
       "      <td>0.433594</td>\n",
       "      <td>1.764420</td>\n",
       "      <td>0.763161</td>\n",
       "    </tr>\n",
       "    <tr>\n",
       "      <th>min</th>\n",
       "      <td>4.300000</td>\n",
       "      <td>2.000000</td>\n",
       "      <td>1.000000</td>\n",
       "      <td>0.100000</td>\n",
       "    </tr>\n",
       "    <tr>\n",
       "      <th>25%</th>\n",
       "      <td>5.100000</td>\n",
       "      <td>2.800000</td>\n",
       "      <td>1.600000</td>\n",
       "      <td>0.300000</td>\n",
       "    </tr>\n",
       "    <tr>\n",
       "      <th>50%</th>\n",
       "      <td>5.800000</td>\n",
       "      <td>3.000000</td>\n",
       "      <td>4.350000</td>\n",
       "      <td>1.300000</td>\n",
       "    </tr>\n",
       "    <tr>\n",
       "      <th>75%</th>\n",
       "      <td>6.400000</td>\n",
       "      <td>3.300000</td>\n",
       "      <td>5.100000</td>\n",
       "      <td>1.800000</td>\n",
       "    </tr>\n",
       "    <tr>\n",
       "      <th>max</th>\n",
       "      <td>7.900000</td>\n",
       "      <td>4.400000</td>\n",
       "      <td>6.900000</td>\n",
       "      <td>2.500000</td>\n",
       "    </tr>\n",
       "  </tbody>\n",
       "</table>\n",
       "</div>"
      ],
      "text/plain": [
       "       sepal_length  sepal_width  petal_length  petal_width\n",
       "count    150.000000   150.000000    150.000000   150.000000\n",
       "mean       5.843333     3.054000      3.758667     1.198667\n",
       "std        0.828066     0.433594      1.764420     0.763161\n",
       "min        4.300000     2.000000      1.000000     0.100000\n",
       "25%        5.100000     2.800000      1.600000     0.300000\n",
       "50%        5.800000     3.000000      4.350000     1.300000\n",
       "75%        6.400000     3.300000      5.100000     1.800000\n",
       "max        7.900000     4.400000      6.900000     2.500000"
      ]
     },
     "execution_count": 1,
     "metadata": {},
     "output_type": "execute_result"
    }
   ],
   "source": [
    "import pandas as pd\n",
    "\n",
    "iris = pd.read_csv('resources\\datasets-uci-iris.csv',\n",
    "                   names=['sepal_length', 'sepal_width', 'petal_length', 'petal_width', 'target'])\n",
    "iris.describe()\n"
   ]
  },
  {
   "cell_type": "markdown",
   "metadata": {},
   "source": [
    "Este método nos da una buena idea acderca de cada caracteística númerica y a demás de los quantiles (25%, 50%,75%), para visualizar graficamente usemos:"
   ]
  },
  {
   "cell_type": "code",
   "execution_count": 2,
   "metadata": {},
   "outputs": [
    {
     "data": {
      "text/plain": [
       "<AxesSubplot:>"
      ]
     },
     "execution_count": 2,
     "metadata": {},
     "output_type": "execute_result"
    },
    {
     "data": {
      "image/png": "[encoded data removed]",
      "text/plain": [
       "<Figure size 432x288 with 1 Axes>"
      ]
     },
     "metadata": {
      "needs_background": "light"
     },
     "output_type": "display_data"
    }
   ],
   "source": [
    "iris.boxplot(return_type='axes')\n"
   ]
  },
  {
   "cell_type": "code",
   "execution_count": 3,
   "metadata": {},
   "outputs": [
    {
     "data": {
      "text/plain": [
       "Iris-setosa        50\n",
       "Iris-versicolor    50\n",
       "Iris-virginica     50\n",
       "Name: target, dtype: int64"
      ]
     },
     "execution_count": 3,
     "metadata": {},
     "output_type": "execute_result"
    }
   ],
   "source": [
    "# saber los diferentes rasgos categoricos\n",
    "iris.target.value_counts()\n"
   ]
  },
  {
   "cell_type": "markdown",
   "metadata": {},
   "source": [
    "To examine the relationship between features, you can create a co-occurrence matrix or a similarity matrix"
   ]
  },
  {
   "cell_type": "code",
   "execution_count": 4,
   "metadata": {},
   "outputs": [
    {
     "data": {
      "text/html": [
       "<div>\n",
       "<style scoped>\n",
       "    .dataframe tbody tr th:only-of-type {\n",
       "        vertical-align: middle;\n",
       "    }\n",
       "\n",
       "    .dataframe tbody tr th {\n",
       "        vertical-align: top;\n",
       "    }\n",
       "\n",
       "    .dataframe thead th {\n",
       "        text-align: right;\n",
       "    }\n",
       "</style>\n",
       "<table border=\"1\" class=\"dataframe\">\n",
       "  <thead>\n",
       "    <tr style=\"text-align: right;\">\n",
       "      <th>petal_width</th>\n",
       "      <th>False</th>\n",
       "      <th>True</th>\n",
       "    </tr>\n",
       "    <tr>\n",
       "      <th>petal_length</th>\n",
       "      <th></th>\n",
       "      <th></th>\n",
       "    </tr>\n",
       "  </thead>\n",
       "  <tbody>\n",
       "    <tr>\n",
       "      <th>False</th>\n",
       "      <td>56</td>\n",
       "      <td>1</td>\n",
       "    </tr>\n",
       "    <tr>\n",
       "      <th>True</th>\n",
       "      <td>4</td>\n",
       "      <td>89</td>\n",
       "    </tr>\n",
       "  </tbody>\n",
       "</table>\n",
       "</div>"
      ],
      "text/plain": [
       "petal_width   False  True\n",
       "petal_length             \n",
       "False            56     1\n",
       "True              4    89"
      ]
     },
     "execution_count": 4,
     "metadata": {},
     "output_type": "execute_result"
    }
   ],
   "source": [
    "# verificar cuantas observaciones estan por encima de la media de 'petal_length' y cuantas\n",
    "# estan por encima de la media de 'petal_width' simultanemaente\n",
    "pd.crosstab(iris['petal_length'] > 3.758667,\n",
    "            iris['petal_width'] > 1.198667)\n"
   ]
  },
  {
   "cell_type": "markdown",
   "metadata": {},
   "source": [
    "Podemos pensar que  hay una realción ente estas dos caracteristicas y podemos verificarlo graficamente com sigue:"
   ]
  },
  {
   "cell_type": "code",
   "execution_count": 5,
   "metadata": {},
   "outputs": [
    {
     "data": {
      "text/plain": [
       "<AxesSubplot:xlabel='petal_width', ylabel='petal_length'>"
      ]
     },
     "execution_count": 5,
     "metadata": {},
     "output_type": "execute_result"
    },
    {
     "data": {
      "image/png": "[encoded data removed]",
      "text/plain": [
       "<Figure size 640x480 with 1 Axes>"
      ]
     },
     "metadata": {},
     "output_type": "display_data"
    }
   ],
   "source": [
    "iris.plot(kind='scatter', x='petal_width', y='petal_length',\n",
    "          s=94, c='blue', edgecolors='black')\n"
   ]
  },
  {
   "cell_type": "markdown",
   "metadata": {},
   "source": [
    "Y como sospechabamosmla tendencia es bastante marcadapor lo que estas dos caracteristicas estan fuertemente relacionadas"
   ]
  },
  {
   "cell_type": "markdown",
   "metadata": {},
   "source": [
    "## **Obtener un aproximado de la distribución de una característica mediante un Histograma**"
   ]
  },
  {
   "cell_type": "code",
   "execution_count": 6,
   "metadata": {},
   "outputs": [
    {
     "data": {
      "text/plain": [
       "<AxesSubplot:ylabel='Frequency'>"
      ]
     },
     "execution_count": 6,
     "metadata": {},
     "output_type": "execute_result"
    },
    {
     "data": {
      "image/png": "[encoded data removed]",
      "text/plain": [
       "<Figure size 640x480 with 1 Axes>"
      ]
     },
     "metadata": {},
     "output_type": "display_data"
    }
   ],
   "source": [
    "iris.petal_width.plot(kind='hist', alpha=0.9, bins=20)\n",
    "iris.petal_length.plot(kind='hist', alpha=0.4, bins=20)\n",
    "# hemos elegido 20 bins( contenedores) pero para otras situaciones podria ser una valor\n",
    "# muy grande o muy pequeño.En este caso 150/20 es 7.5 muestras por barra\n",
    "# El valor por defaut para bins es la raiz cuadrada del tamaño de la muestra.\n"
   ]
  },
  {
   "cell_type": "markdown",
   "metadata": {},
   "source": [
    "Como ya habiamos supuesto de hipotesis que estas dos caracteristicas estaban fuertemente relacionadas podemos ver que su distribución de probabilidades es bastante similar"
   ]
  },
  {
   "cell_type": "code",
   "execution_count": 7,
   "metadata": {},
   "outputs": [
    {
     "name": "stdout",
     "output_type": "stream",
     "text": [
      "['MedInc', 'HouseAge', 'AveRooms', 'AveBedrms', 'Population', 'AveOccup', 'Latitude', 'Longitude'] \n",
      " (20640, 8)\n"
     ]
    }
   ],
   "source": [
    "import numpy as np\n",
    "from sklearn import datasets\n",
    "from sklearn.model_selection import train_test_split\n",
    "from sklearn.metrics import mean_squared_error\n",
    "\n",
    "cali = datasets._california_housing.fetch_california_housing()\n",
    "X = cali['data']\n",
    "Y = cali['target']\n",
    "X_train, X_test, Y_train, Y_test = train_test_split(X, Y, test_size=0.2)\n",
    "print(cali.feature_names, '\\n', cali.data.shape)\n"
   ]
  },
  {
   "cell_type": "code",
   "execution_count": 8,
   "metadata": {},
   "outputs": [
    {
     "name": "stdout",
     "output_type": "stream",
     "text": [
      "MSE= 1.119796474154996\n"
     ]
    }
   ],
   "source": [
    "from sklearn.neighbors import KNeighborsRegressor\n",
    "regressor = KNeighborsRegressor()\n",
    "regressor.fit(X_train, Y_train)\n",
    "Y_est = regressor.predict(X_test)\n",
    "print(\"MSE=\", mean_squared_error(Y_test, Y_est))\n"
   ]
  },
  {
   "cell_type": "markdown",
   "metadata": {},
   "source": [
    "Este resultado de MSE puede parecer bajo. Pero intentemos hacerlo mejor y para eso vamos a normalizar todas las caracteristicas"
   ]
  },
  {
   "cell_type": "code",
   "execution_count": 9,
   "metadata": {},
   "outputs": [
    {
     "name": "stdout",
     "output_type": "stream",
     "text": [
      "MSE= 0.4230454760790581\n"
     ]
    }
   ],
   "source": [
    "'''normalizar las caracteristicas con la notación Z'''\n",
    "\n",
    "from sklearn.preprocessing import StandardScaler\n",
    "scaler = StandardScaler()\n",
    "\n",
    "X_train_scaled = scaler.fit_transform(X_train)\n",
    "X_test_scaled = scaler.transform(X_test)\n",
    "regressor = KNeighborsRegressor()\n",
    "regressor.fit(X_train_scaled, Y_train)\n",
    "\n",
    "Y_est = regressor.predict(X_test_scaled)\n",
    "print(\"MSE=\", mean_squared_error(Y_test, Y_est))\n"
   ]
  },
  {
   "cell_type": "markdown",
   "metadata": {},
   "source": [
    ">Con la ayuda de este sencillo paso, reducimos el MAE a más de la mitad,no utilizamos las características originales, sino su modificación lineal\n",
    "\n",
    "En lugar de la **normalización Z**, podemos utilizar una función de escala en las características\n",
    "que es más robusta a los valores atípicos, **RobustScaler**.Este escalador, en lugar de utilizar la media y la desviación estándar, **utiliza la mediana y el rango intercuartílico (IQR)**, es decir, el primer y el tercer cuartil) para escalar cada característica independientemente. Es más robusto que los valores atípicos, ya que la mediana y el IQR no se ven tan influenciadas como la media y la varianza si unos pocos puntos (eventualmente\n",
    "sólo uno) se alejan del centro , por ejemplo, debido a una lectura defectuosa\n"
   ]
  },
  {
   "cell_type": "code",
   "execution_count": 10,
   "metadata": {},
   "outputs": [
    {
     "name": "stdout",
     "output_type": "stream",
     "text": [
      "MSE= 0.4145149601220261\n"
     ]
    }
   ],
   "source": [
    "'''escalar los datos'''\n",
    "from sklearn.preprocessing import RobustScaler\n",
    "scaler2 = RobustScaler()\n",
    "\n",
    "X_train_scaled = scaler2.fit_transform(X_train)\n",
    "X_test_scaled = scaler2.transform(X_test)\n",
    "\n",
    "regressor = KNeighborsRegressor()\n",
    "regressor.fit(X_train_scaled, Y_train)\n",
    "Y_est = regressor.predict(X_test_scaled)\n",
    "print(\"MSE=\", mean_squared_error(Y_test, Y_est))\n"
   ]
  },
  {
   "cell_type": "markdown",
   "metadata": {},
   "source": [
    "Una vez que investigas un poco en el dominio y exploramos los datos llegaremos(entre otras) a la conclusion de que hay una gran diferencia entre el precio de una casa donde vive una sola persona a una donde viven tres. Sin embargo no hay mucha diferencia entre una casa de 10 habitantes y una de 13. Podemos penalizar los valores altos de habitantes **aplicando una transformacion no lineal** a la carracteristica 'AveOccup', calcular su raiz cuadrada"
   ]
  },
  {
   "cell_type": "code",
   "execution_count": 11,
   "metadata": {},
   "outputs": [
    {
     "name": "stdout",
     "output_type": "stream",
     "text": [
      "MSE= 0.3455007820752451\n"
     ]
    }
   ],
   "source": [
    "'''tranformacion no lineal a una caracteristica, en este caso la raiz cuadrada'''\n",
    "non_linear_feat = 5  # AveOccup\n",
    "\n",
    "# add new feature\n",
    "new_feat = np.sqrt(X_train[:, non_linear_feat])\n",
    "X_train_extended = np.column_stack((X_train, new_feat))\n",
    "\n",
    "new_feat = np.sqrt(X_test[:, non_linear_feat])\n",
    "X_test_extended = np.column_stack((X_test, new_feat))\n",
    "\n",
    "# normalizar con la notacion Z\n",
    "scaler = StandardScaler()\n",
    "X_train_extended_scaled = scaler.fit_transform(X_train_extended)\n",
    "X_test_extended_scaled = scaler.transform(X_test_extended)\n",
    "\n",
    "regressor = KNeighborsRegressor()\n",
    "regressor.fit(X_train_extended_scaled, Y_train)\n",
    "Y_est = regressor.predict(X_test_extended_scaled)\n",
    "print(\"MSE=\", mean_squared_error(Y_test, Y_est))\n"
   ]
  },
  {
   "cell_type": "markdown",
   "metadata": {},
   "source": [
    "Este sencillo ejemplo de debería demostrar la importancia que tiene la aplicación de trasnf. lineales y no lineales encontradas en la EDA para encontrar caracteristicas que estén conceptualmente mas relacioandas con la variable objetivo"
   ]
  },
  {
   "cell_type": "markdown",
   "metadata": {},
   "source": [
    "# **Building new features**"
   ]
  },
  {
   "cell_type": "code",
   "execution_count": 12,
   "metadata": {},
   "outputs": [
    {
     "name": "stdout",
     "output_type": "stream",
     "text": [
      "['MedInc', 'HouseAge', 'AveRooms', 'AveBedrms', 'Population', 'AveOccup', 'Latitude', 'Longitude'] \n",
      " (20640, 8)\n"
     ]
    }
   ],
   "source": [
    "import numpy as np\n",
    "from sklearn import datasets\n",
    "from sklearn.model_selection import train_test_split\n",
    "from sklearn.metrics import mean_squared_error\n",
    "\n",
    "cali = datasets._california_housing.fetch_california_housing()\n",
    "X = cali['data']\n",
    "Y = cali['target']\n",
    "X_train, X_test, Y_train, Y_test = train_test_split(X, Y, test_size=0.2)\n",
    "print(cali.feature_names, '\\n', cali.data.shape)\n"
   ]
  },
  {
   "cell_type": "code",
   "execution_count": 13,
   "metadata": {},
   "outputs": [
    {
     "name": "stdout",
     "output_type": "stream",
     "text": [
      "MSE= 1.1137813518373372\n"
     ]
    }
   ],
   "source": [
    "from sklearn.neighbors import KNeighborsRegressor\n",
    "regressor = KNeighborsRegressor()\n",
    "regressor.fit(X_train, Y_train)\n",
    "Y_est = regressor.predict(X_test)\n",
    "print(\"MSE=\", mean_squared_error(Y_test, Y_est))\n"
   ]
  },
  {
   "cell_type": "markdown",
   "metadata": {},
   "source": [
    "Este resultado de MSE puede parecer bajo. Pero intentemos hacerlo mejor y para eso vamos a normalizar todas las caracteristicas"
   ]
  },
  {
   "cell_type": "code",
   "execution_count": 14,
   "metadata": {},
   "outputs": [
    {
     "name": "stdout",
     "output_type": "stream",
     "text": [
      "MSE= 0.3709321061203924\n"
     ]
    }
   ],
   "source": [
    "'''normalizar las caracteristicas con la notación Z'''\n",
    "\n",
    "from sklearn.preprocessing import StandardScaler\n",
    "scaler = StandardScaler()\n",
    "\n",
    "X_train_scaled = scaler.fit_transform(X_train)\n",
    "X_test_scaled = scaler.transform(X_test)\n",
    "regressor = KNeighborsRegressor()\n",
    "regressor.fit(X_train_scaled, Y_train)\n",
    "\n",
    "Y_est = regressor.predict(X_test_scaled)\n",
    "print(\"MSE=\", mean_squared_error(Y_test, Y_est))\n"
   ]
  },
  {
   "cell_type": "markdown",
   "metadata": {},
   "source": [
    ">Con la ayuda de este sencillo paso, reducimos el MAE a más de la mitad,no utilizamos las características originales, sino su modificación lineal\n",
    "\n",
    "En lugar de la **normalización Z**, podemos utilizar una función de escala en las características\n",
    "que es más robusta a los valores atípicos, **RobustScaler**.Este escalador, en lugar de utilizar la media y la desviación estándar, **utiliza la mediana y el rango intercuartílico (IQR)**, es decir, el primer y el tercer cuartil) para escalar cada característica independientemente. Es más robusto que los valores atípicos, ya que la mediana y el IQR no se ven tan influenciadas como la media y la varianza si unos pocos puntos (eventualmente\n",
    "sólo uno) se alejan del centro , por ejemplo, debido a una lectura defectuosa\n"
   ]
  },
  {
   "cell_type": "code",
   "execution_count": 15,
   "metadata": {},
   "outputs": [
    {
     "name": "stdout",
     "output_type": "stream",
     "text": [
      "MSE= 0.42475748330249896\n"
     ]
    }
   ],
   "source": [
    "'''escalar los datos'''\n",
    "from sklearn.preprocessing import RobustScaler\n",
    "scaler2 = RobustScaler()\n",
    "\n",
    "X_train_scaled = scaler2.fit_transform(X_train)\n",
    "X_test_scaled = scaler2.transform(X_test)\n",
    "\n",
    "regressor = KNeighborsRegressor()\n",
    "regressor.fit(X_train_scaled, Y_train)\n",
    "Y_est = regressor.predict(X_test_scaled)\n",
    "print(\"MSE=\", mean_squared_error(Y_test, Y_est))\n"
   ]
  },
  {
   "cell_type": "markdown",
   "metadata": {},
   "source": [
    "Una vez que investigas un poco en el dominio y exploramos los datos llegaremos(entre otras) a la conclusion de que hay una gran diferencia entre el precio de una casa donde vive una sola persona a una donde viven tres. Sin embargo no hay mucha diferencia entre una casa de 10 habitantes y una de 13. Podemos penalizar los valores altos de habitantes **aplicando una transformacion no lineal** a la carracteristica 'AveOccup', calcular su raiz cuadrada"
   ]
  },
  {
   "cell_type": "code",
   "execution_count": 16,
   "metadata": {},
   "outputs": [
    {
     "name": "stdout",
     "output_type": "stream",
     "text": [
      "MSE= 0.3482831694049932\n"
     ]
    }
   ],
   "source": [
    "'''tranformacion no lineal a una caracteristica, en este caso la raiz cuadrada'''\n",
    "non_linear_feat = 5  # AveOccup\n",
    "\n",
    "# add new feature\n",
    "new_feat = np.sqrt(X_train[:, non_linear_feat])\n",
    "X_train_extended = np.column_stack((X_train, new_feat))\n",
    "\n",
    "new_feat = np.sqrt(X_test[:, non_linear_feat])\n",
    "X_test_extended = np.column_stack((X_test, new_feat))\n",
    "\n",
    "# normalizar con la notacion Z\n",
    "scaler = StandardScaler()\n",
    "X_train_extended_scaled = scaler.fit_transform(X_train_extended)\n",
    "X_test_extended_scaled = scaler.transform(X_test_extended)\n",
    "\n",
    "regressor = KNeighborsRegressor()\n",
    "regressor.fit(X_train_extended_scaled, Y_train)\n",
    "Y_est = regressor.predict(X_test_extended_scaled)\n",
    "print(\"MSE=\", mean_squared_error(Y_test, Y_est))\n"
   ]
  },
  {
   "cell_type": "markdown",
   "metadata": {},
   "source": [
    "Este sencillo ejemplo de debería demostrar la importancia que tiene la aplicación de trasnf. lineales y no lineales encontradas en la EDA para encontrar caracteristicas que estén conceptualmente mas relacioandas con la variable objetivo"
   ]
  }
 ],
 "metadata": {
  "kernelspec": {
   "display_name": "Python 3.10.4 64-bit",
   "language": "python",
   "name": "python3"
  },
  "language_info": {
   "codemirror_mode": {
    "name": "ipython",
    "version": 3
   },
   "file_extension": ".py",
   "mimetype": "text/x-python",
   "name": "python",
   "nbconvert_exporter": "python",
   "pygments_lexer": "ipython3",
   "version": "3.10.4"
  },
  "orig_nbformat": 4,
  "vscode": {
   "interpreter": {
    "hash": "37964de45fa06bc99b754cfc54b483ffac9c133df6b16baa187ef33bd89a6318"
   }
  }
 },
 "nbformat": 4,
 "nbformat_minor": 2
}
