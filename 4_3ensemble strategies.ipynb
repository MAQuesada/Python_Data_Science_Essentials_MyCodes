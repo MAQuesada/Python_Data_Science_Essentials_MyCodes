{
 "cells": [
  {
   "cell_type": "markdown",
   "metadata": {},
   "source": [
    "# **Ensamble Strategies**"
   ]
  },
  {
   "cell_type": "markdown",
   "metadata": {},
   "source": [
    "![Averaging Algorithms](resources/Averaging%20algorithms.png)"
   ]
  },
  {
   "cell_type": "code",
   "execution_count": 14,
   "metadata": {},
   "outputs": [
    {
     "name": "stdout",
     "output_type": "stream",
     "text": [
      ".. _covtype_dataset:\n",
      "\n",
      "Forest covertypes\n",
      "-----------------\n",
      "\n",
      "The samples in this dataset correspond to 30×30m patches of forest in the US,\n",
      "collected for the task of predicting each patch's cover type,\n",
      "i.e. the dominant species of tree.\n",
      "There are seven covertypes, making this a multiclass classification problem.\n",
      "Each sample has 54 features, described on the\n",
      "`dataset's homepage <https://archive.ics.uci.edu/ml/datasets/Covertype>`__.\n",
      "Some of the features are boolean indicators,\n",
      "while others are discrete or continuous measurements.\n",
      "\n",
      "**Data Set Characteristics:**\n",
      "\n",
      "    =================   ============\n",
      "    Classes                        7\n",
      "    Samples total             581012\n",
      "    Dimensionality                54\n",
      "    Features                     int\n",
      "    =================   ============\n",
      "\n",
      ":func:`sklearn.datasets.fetch_covtype` will load the covertype dataset;\n",
      "it returns a dictionary-like 'Bunch' object\n",
      "with the feature matrix in the ``data`` member\n",
      "and the target values in ``target``. If optional argument 'as_frame' is\n",
      "set to 'True', it will return ``data`` and ``target`` as pandas\n",
      "data frame, and there will be an additional member ``frame`` as well.\n",
      "The dataset will be downloaded from the web if necessary.\n",
      "\n"
     ]
    }
   ],
   "source": [
    "import pickle\n",
    "\n",
    "# cargar el conjunto de datos  Forest covertypes\n",
    "covertype_dataset = pickle.load(open(\"resources/covertype_dataset.pickle\", \"rb\"))\n",
    "\n",
    "print(covertype_dataset.DESCR)\n",
    "covertype_X = covertype_dataset.data[:15000, :]\n",
    "covertype_y = covertype_dataset.target[:15000]\n",
    "covertypes = ['Spruce/Fir', 'Lodgepole Pine', 'Ponderosa Pine',\n",
    "              'Cottonwood/Willow', 'Aspen', 'Douglas-fir', 'Krummholz']\n"
   ]
  },
  {
   "cell_type": "markdown",
   "metadata": {},
   "source": [
    "## Example of Bagging\n",
    "Los **modelos débiles(weak)** son una buena elección para el estimador que se\n",
    "utilizará con **bagging**. Un aprendiz débil en clasificación o predicción es\n",
    "simplemente un algoritmo que funciona solo por encima de la línea dee azar  debido a su simplicidad o alto\n",
    "sesgo en la estimación. Algunos buenos ejemplos son Naive Bayes y K\n",
    "Nearest Neighbors.\n",
    "\n",
    " La ventaja de utilizar aprendices débiles y ensamblarlos es que se pueden entrenar\n",
    "más rápidamente que los algoritmos complejos y  aunque su capacidad de  predicción es débil, cuando se combinan, suelen lograr resultados de predicción razonables"
   ]
  },
  {
   "cell_type": "code",
   "execution_count": 5,
   "metadata": {},
   "outputs": [
    {
     "name": "stdout",
     "output_type": "stream",
     "text": [
      "BaggingClassifier -> cross validation accuracy: mean= 0.793 std=  0.007\n"
     ]
    }
   ],
   "source": [
    "import numpy as np\n",
    "from sklearn.model_selection import cross_val_score\n",
    "from sklearn.ensemble import BaggingClassifier\n",
    "from sklearn.neighbors import KNeighborsClassifier\n",
    "\n",
    "hypothesis = BaggingClassifier(KNeighborsClassifier(n_neighbors=1),\n",
    "                               max_samples=0.7, max_features=0.7,\n",
    "                               n_estimators=100)\n",
    "scores = cross_val_score(hypothesis, covertype_X, covertype_y, cv=3,\n",
    "                         scoring='accuracy', n_jobs=-1)\n",
    "print(\"BaggingClassifier -> cross validation accuracy: mean=% 0.3f std= % 0.3f\" %\n",
    "      (np.mean(scores), np.std(scores)))\n"
   ]
  },
  {
   "cell_type": "markdown",
   "metadata": {},
   "source": [
    "Similar a este ejemplo, podemos realizar los 4 algoritmos de **Averaging**. Y para ajustar los hiperparámetros se puede probar con GridSearchCV(). Según nuestra experiencia, si necesita limitar o acelerar la búsqueda, los valores que mejor funcionan con más frecuencia están entre 0,7 y 0,9."
   ]
  },
  {
   "cell_type": "markdown",
   "metadata": {},
   "source": [
    "## RandonForest vs Extra-Trees\n",
    "\n",
    "Veamos cómo se comparan los dos algoritmos con el problema Covertype-forest, tanto en términos de precisión de la predicción como de tiempo de ejecución.Recordar que la principal diferencia que tienen los dos es que una vez que selecioanron un subconjunto aleatorio de caracarteristicas como candidadtas para realizar la division en un nodo  **RandomForest** selecciona la optima de acuerdo a una métrica; mientras que **ExtraTrees** la selecciona aleatoriamente"
   ]
  },
  {
   "cell_type": "code",
   "execution_count": 6,
   "metadata": {},
   "outputs": [],
   "source": [
    "import numpy as np\n",
    "from sklearn.model_selection import cross_val_score\n",
    "from sklearn.ensemble import RandomForestClassifier\n",
    "from sklearn.ensemble import ExtraTreesClassifier\n"
   ]
  },
  {
   "cell_type": "code",
   "execution_count": 7,
   "metadata": {},
   "outputs": [
    {
     "name": "stdout",
     "output_type": "stream",
     "text": [
      "RandomForestClassifier(random_state=101) RandomForestClassifier -> cross validation accuracy: \\mean = 0.811 std = 0.006\n",
      "CPU times: total: 78.1 ms\n",
      "Wall time: 3.53 s\n"
     ]
    }
   ],
   "source": [
    "%%time\n",
    "hypothesis = RandomForestClassifier(n_estimators=100, random_state=101)\n",
    "scores = cross_val_score(hypothesis, covertype_X, covertype_y,\n",
    "                         cv=3, scoring='accuracy', n_jobs=-1)\n",
    "print(hypothesis,\"RandomForestClassifier -> cross validation accuracy: \\mean = %0.3f std = %0.3f\" %\n",
    "      (np.mean(scores), np.std(scores)))\n"
   ]
  },
  {
   "cell_type": "code",
   "execution_count": 8,
   "metadata": {},
   "outputs": [
    {
     "name": "stdout",
     "output_type": "stream",
     "text": [
      "ExtraTreesClassifier -> cross validation accuracy: mean= 0.822       std=  0.006\n",
      "CPU times: total: 31.2 ms\n",
      "Wall time: 3.29 s\n"
     ]
    }
   ],
   "source": [
    "%%time\n",
    "hypothesis = ExtraTreesClassifier(n_estimators=100, random_state=101)\n",
    "scores = cross_val_score(hypothesis, covertype_X, covertype_y, cv=3,\n",
    "                         scoring='accuracy', n_jobs=-1)\n",
    "print(\"ExtraTreesClassifier -> cross validation accuracy: mean=% 0.3f       std= % 0.3f\" %\n",
    "      (np.mean(scores), np.std(scores)))\n"
   ]
  },
  {
   "cell_type": "markdown",
   "metadata": {},
   "source": [
    "Los principales hiperparamétros son : \n",
    "* **max_features**: Es el número de características muestreadas presentes en cada división que pueden determinar el rendimiento del algoritmo. Cuanto menor sea el número, más rápido, pero con mayor sesgo.\n",
    "* **min_samples_leaf**: Permite determinar la profundidad de los árboles. Los números grandes disminuyen la varianza y aumentan el sesgo.\n",
    "* **bootstrap**: This is a Boolean that allows bootstrapping.\n",
    "* **n_estimators**: : Este es el número de árboles (recuerde que cuantos más\n",
    "árboles mejor, pero esto tiene un coste computacional "
   ]
  },
  {
   "cell_type": "code",
   "execution_count": 9,
   "metadata": {},
   "outputs": [
    {
     "name": "stdout",
     "output_type": "stream",
     "text": [
      "RandomForestRegessor -> cross validation accuracy: mean=-4.664       std= 0.505\n"
     ]
    }
   ],
   "source": [
    "# ejemplo de regression\n",
    "\n",
    "import numpy as np\n",
    "from sklearn.ensemble import RandomForestRegressor\n",
    "import pickle\n",
    "from sklearn.preprocessing import scale\n",
    "\n",
    "X_train, y_train = pickle.load(open(\"resources/cadata.pickle\", \"rb\"))\n",
    "first_rows = 2000\n",
    "\n",
    "X_train = scale(X_train[:first_rows, :].toarray())\n",
    "y_train = y_train[:first_rows]/10**4.\n",
    "\n",
    "hypothesis = RandomForestRegressor(n_estimators=300, random_state=101)\n",
    "scores = cross_val_score(hypothesis, X_train, y_train, cv=3,\n",
    "                         scoring='neg_mean_absolute_error', n_jobs=-1)\n",
    "print(\"RandomForestRegessor -> cross validation accuracy: mean=% 0.3f       std=% 0.3f\" %\n",
    "      (np.mean(scores), np.std(scores)))\n"
   ]
  },
  {
   "cell_type": "markdown",
   "metadata": {},
   "source": [
    "## Estimacion de Probabilidades con **CalibratedClassiferCV**"
   ]
  },
  {
   "cell_type": "code",
   "execution_count": 10,
   "metadata": {},
   "outputs": [],
   "source": [
    "import pandas as pd\n",
    "import matplotlib.pyplot as plt\n",
    "from sklearn.calibration import CalibratedClassifierCV\n",
    "from sklearn.calibration import calibration_curve\n",
    "\n",
    "hypothesis = RandomForestClassifier(n_estimators=100, random_state=101)\n",
    "calibration = CalibratedClassifierCV(hypothesis, method='sigmoid', cv=5)\n",
    "covertype_X = covertype_dataset.data[:15000,:]\n",
    "covertype_y = covertype_dataset.target[:15000]\n",
    "covertype_test_X = covertype_dataset.data[15000:25000,:]\n",
    "covertype_test_y = covertype_dataset.target[15000:25000]"
   ]
  },
  {
   "cell_type": "code",
   "execution_count": 11,
   "metadata": {},
   "outputs": [
    {
     "name": "stdout",
     "output_type": "stream",
     "text": [
      "[[0.   0.03 0.87 0.06 0.   0.04 0.  ]]\n",
      "[[0.01907878 0.02393735 0.92994385 0.0048556  0.00474467 0.01391278\n",
      "  0.00352698]]\n"
     ]
    },
    {
     "data": {
      "text/plain": [
       "3"
      ]
     },
     "execution_count": 11,
     "metadata": {},
     "output_type": "execute_result"
    }
   ],
   "source": [
    "hypothesis.fit(covertype_X, covertype_y)\n",
    "calibration.fit(covertype_X, covertype_y)\n",
    "\n",
    "# probabilidades del RandomForest en bruto\n",
    "prob_raw = hypothesis.predict_proba(covertype_test_X)\n",
    "\n",
    "\n",
    "# calibramos las estimamos de las probabilidades,\n",
    "prob_cal = calibration.predict_proba(covertype_test_X)\n",
    "print(prob_raw[:1, :])\n",
    "print(prob_cal[:1, :])\n",
    "covertype_test_y[0]\n"
   ]
  },
  {
   "cell_type": "code",
   "execution_count": 12,
   "metadata": {},
   "outputs": [
    {
     "data": {
      "image/png": "[encoded data removed]",
      "text/plain": [
       "<Figure size 432x288 with 1 Axes>"
      ]
     },
     "metadata": {
      "needs_background": "light"
     },
     "output_type": "display_data"
    }
   ],
   "source": [
    "# %matplotlib inline\n",
    "\n",
    "# tomar una clase como ejemlo apra comparar las prob. en bruto con las calibradas\n",
    "tree_kind = covertypes.index('Ponderosa Pine')\n",
    "probs = pd.DataFrame(list(zip(prob_raw[:, tree_kind],\n",
    "                              prob_cal[:, tree_kind])),\n",
    "                     columns=['raw', 'calibrted'])\n",
    "plot = probs.plot(kind='scatter', x=0, y=1, s=64,\n",
    "                  c='blue', edgecolors='white', title='Probability of Ponderosa Pine class')\n"
   ]
  },
  {
   "cell_type": "markdown",
   "metadata": {},
   "source": [
    "La calibración, aunque no modifica el rendimiento del modelo, al\n",
    "remodelar la salida de probabilidad le ayuda a obtener probabilidades que\n",
    "se correspondan mejor con los datos de entrenamiento. En el \n",
    "gráfico se puede observar cómo el procedimiento de calibración ha\n",
    "modificado las probabilidades originales añadiendo cierta no linealidad\n",
    "como corrección:"
   ]
  },
  {
   "cell_type": "markdown",
   "metadata": {},
   "source": [
    "## **Boostig Algorithms**"
   ]
  },
  {
   "cell_type": "markdown",
   "metadata": {},
   "source": [
    "### ADA-Boost"
   ]
  },
  {
   "cell_type": "code",
   "execution_count": 21,
   "metadata": {},
   "outputs": [
    {
     "name": "stdout",
     "output_type": "stream",
     "text": [
      "Adaboost -> cross validation accuracy: mean = 0.622 std = 0.006\n"
     ]
    }
   ],
   "source": [
    "import numpy as np\n",
    "from sklearn.ensemble import AdaBoostClassifier\n",
    "hypothesis = AdaBoostClassifier(n_estimators=300, random_state=101)\n",
    "scores = cross_val_score(hypothesis, covertype_X, covertype_y, cv=3,\n",
    "                         scoring='accuracy', n_jobs=-1)\n",
    "print(\"Adaboost -> cross validation accuracy: mean = %0.3f std = %0.3f\" %\n",
    "      (np.mean(scores), np.std(scores)))\n"
   ]
  },
  {
   "cell_type": "markdown",
   "metadata": {},
   "source": [
    "### Gradient tree boosting (GTB)"
   ]
  },
  {
   "cell_type": "code",
   "execution_count": 20,
   "metadata": {},
   "outputs": [],
   "source": [
    "# intentaremos  mejorar nuestro rendimiento predictivo en el conjunto de datos  covertype, que ya \n",
    "# se examinó al ilustrar los algoritmos SVM lineal \n",
    "import pickle\n",
    "covertype_dataset = pickle.load(open(\"resources/covertype_dataset.pickle\", \"rb\"))\n",
    "covertype_X = covertype_dataset.data[:15000,:]\n",
    "covertype_y = covertype_dataset.target[:15000] -1 \n",
    "covertype_val_X = covertype_dataset.data[15000:20000,:]\n",
    "covertype_val_y = covertype_dataset.target[15000:20000] -1\n",
    "covertype_test_X = covertype_dataset.data[20000:25000,:]\n",
    "covertype_test_y = covertype_dataset.target[20000:25000] -1"
   ]
  },
  {
   "cell_type": "code",
   "execution_count": 24,
   "metadata": {},
   "outputs": [
    {
     "name": "stdout",
     "output_type": "stream",
     "text": [
      "GradientBoostingClassifier -> test accuracy: 0.7856\n"
     ]
    }
   ],
   "source": [
    "from sklearn.metrics import accuracy_score\n",
    "import numpy as np\n",
    "from sklearn.model_selection import cross_val_score, StratifiedKFold\n",
    "from sklearn.ensemble import GradientBoostingClassifier\n",
    "\n",
    "hypothesis = GradientBoostingClassifier(max_depth=5, n_estimators=60, random_state=101)\n",
    "hypothesis.fit(covertype_X, covertype_y)\n",
    "\n",
    "print(\"GradientBoostingClassifier -> test accuracy:\",\n",
    "      accuracy_score(covertype_test_y, hypothesis.predict(covertype_test_X)))\n"
   ]
  },
  {
   "cell_type": "markdown",
   "metadata": {},
   "source": [
    "La precisión resultante es 0.78 , que es mucho mejor que la obtenida utilizando por **LinearSVC**. Podriamos obtener un mejor rendimiento ajustando los siguientes parametros: \n",
    " \n",
    "* **n_estimators**: Si se excede con los estimadores, aumenta la varianza. De todos modos, si\n",
    "los estimadores no son suficientes, el algoritmo sufrirá un alto sesgo. El número correcto no\n",
    "puede conocerse a priori, sino que debe hallarse de forma heurística, probando varias configuraciones mediante validación cruzada\n",
    " \n",
    "* **max_depth**: aumentarla incrementara la varianza y la complejidad \n",
    " \n",
    "* **subsample**:  Puede reducir eficazmente la varianza de las estimaciones utilizando valores de 0,9 a 0,7.\n",
    " \n",
    "* **learning_rate**: Valores más pequeños pueden mejorar la\n",
    "optimización en el proceso de entrenamiento, aunque eso\n",
    "requerirá más estimadores para converger, y por lo tanto más\n",
    "tiempo computacional.\n",
    " \n",
    "* **in_samples_leaf**: Esto puede reducir la varianza debida a datos ruidosos, reservando el sobreajuste a casos raros.\n"
   ]
  },
  {
   "cell_type": "code",
   "execution_count": null,
   "metadata": {},
   "outputs": [],
   "source": []
  }
 ],
 "metadata": {
  "kernelspec": {
   "display_name": "Python 3.10.4 64-bit",
   "language": "python",
   "name": "python3"
  },
  "language_info": {
   "codemirror_mode": {
    "name": "ipython",
    "version": 3
   },
   "file_extension": ".py",
   "mimetype": "text/x-python",
   "name": "python",
   "nbconvert_exporter": "python",
   "pygments_lexer": "ipython3",
   "version": "3.10.4"
  },
  "orig_nbformat": 4,
  "vscode": {
   "interpreter": {
    "hash": "37964de45fa06bc99b754cfc54b483ffac9c133df6b16baa187ef33bd89a6318"
   }
  }
 },
 "nbformat": 4,
 "nbformat_minor": 2
}
