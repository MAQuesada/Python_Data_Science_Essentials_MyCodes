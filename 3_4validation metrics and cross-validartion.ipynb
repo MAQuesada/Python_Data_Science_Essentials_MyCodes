{
 "cells": [
  {
   "cell_type": "markdown",
   "metadata": {},
   "source": [
    "# **Validation Metrics**"
   ]
  },
  {
   "cell_type": "code",
   "execution_count": 1,
   "metadata": {},
   "outputs": [
    {
     "data": {
      "text/plain": [
       "array(['setosa', 'versicolor', 'virginica'], dtype='<U10')"
      ]
     },
     "execution_count": 1,
     "metadata": {},
     "output_type": "execute_result"
    }
   ],
   "source": [
    "from sklearn.tree import DecisionTreeClassifier\n",
    "from sklearn import datasets\n",
    "from sklearn.model_selection import train_test_split\n",
    "\n",
    "iris = datasets.load_iris()\n",
    "\n",
    "# No crossvalidation for this dummy notebook\n",
    "X_train, X_test, Y_train, Y_test = train_test_split(\n",
    "    iris.data, iris.target, test_size=0.50, random_state=4)\n",
    "    \n",
    "# Use a very bad multiclass classifier\n",
    "classifier = DecisionTreeClassifier(max_depth=2)\n",
    "classifier.fit(X_train, Y_train)\n",
    "Y_pred = classifier.predict(X_test)\n",
    "iris.target_names\n"
   ]
  },
  {
   "cell_type": "markdown",
   "metadata": {},
   "source": [
    "## **Matriz de Confusión**"
   ]
  },
  {
   "cell_type": "code",
   "execution_count": 2,
   "metadata": {},
   "outputs": [
    {
     "name": "stdout",
     "output_type": "stream",
     "text": [
      "[[30  0  0]\n",
      " [ 0 19  3]\n",
      " [ 0  2 21]]\n"
     ]
    },
    {
     "data": {
      "image/png": "[encoded data removed]",
      "text/plain": [
       "<Figure size 345.6x345.6 with 2 Axes>"
      ]
     },
     "metadata": {
      "needs_background": "light"
     },
     "output_type": "display_data"
    }
   ],
   "source": [
    "import matplotlib.pyplot as plt\n",
    "\n",
    "from sklearn import metrics\n",
    "from sklearn.metrics import confusion_matrix\n",
    "cm = confusion_matrix(Y_test, Y_pred)\n",
    "print(cm)\n",
    "\n",
    "img = plt.matshow(cm, cmap=plt.cm.autumn)\n",
    "plt.colorbar(img, fraction=0.045)\n",
    "for x in range(cm.shape[0]):\n",
    "    for y in range(cm.shape[1]):\n",
    "        plt.text(x, y, \"%0.2f\" % cm[x,y], size=12, color='black', ha=\"center\", va=\"center\")\n",
    "plt.show()\n",
    "\n",
    "\n"
   ]
  },
  {
   "cell_type": "markdown",
   "metadata": {},
   "source": [
    "## **Multilabel Classification**"
   ]
  },
  {
   "cell_type": "code",
   "execution_count": 3,
   "metadata": {},
   "outputs": [
    {
     "name": "stdout",
     "output_type": "stream",
     "text": [
      "Accuracy: 0.9333333333333333\n",
      "Precision: 0.9337301587301586\n",
      "Recall: 0.9333333333333333\n",
      "F1 score: 0.9332673593930398\n",
      "              precision    recall  f1-score   support\n",
      "\n",
      "      setosa       1.00      1.00      1.00        30\n",
      "  versicolor       0.90      0.86      0.88        22\n",
      "   virginica       0.88      0.91      0.89        23\n",
      "\n",
      "    accuracy                           0.93        75\n",
      "   macro avg       0.93      0.93      0.93        75\n",
      "weighted avg       0.93      0.93      0.93        75\n",
      "\n"
     ]
    }
   ],
   "source": [
    "#  la parte de las etiquetas predichas que son exactamente iguales a las reales\n",
    "from sklearn.metrics import classification_report\n",
    "print(\"Accuracy:\", metrics.accuracy_score(Y_test, Y_pred))\n",
    "\n",
    "# cuenta el número de etiquetas correctas en cada conjunto de etiquetas clasificadas y\n",
    "# se promedian los resultados en todas las etiquetas:\n",
    "print(\"Precision:\", metrics.precision_score(Y_test, Y_pred, average='weighted'))\n",
    "\n",
    "# cantidad de etiquetas clasificadas correctamente en el conjunto dividida por el recuento\n",
    "# total de etiquetas de ese conjunto\n",
    "print(\"Recall:\", metrics.recall_score(Y_test, Y_pred, average='weighted'))\n",
    "\n",
    "# media armónica de la Precision y Recall , que se utiliza sobre todo cuando\n",
    "#  se trata de conjuntos de datos desequilibrados\n",
    "print(\"F1 score:\", metrics.f1_score(Y_test, Y_pred, average='weighted'))\n",
    "\n",
    "\n",
    "print (classification_report(Y_test, Y_pred, target_names=iris.target_names))\n"
   ]
  },
  {
   "cell_type": "markdown",
   "metadata": {},
   "source": [
    "# **Cross-Validation**"
   ]
  },
  {
   "cell_type": "markdown",
   "metadata": {},
   "source": [
    "Le sugerimos encarecidamente que utilice la validación cruzada sólo con fines de optimización y no para estimar el rendimiento (es decir, para averiguar cuál podría ser el error del modelo en datos frescos). La validación cruzada sólo señala el mejor algoritmo posible y la elección de parámetros basada en el mejor resultado promedio.\n",
    "\n",
    "Además obtenemos una estimación bastante honesta del error fuera del muestreo pues estamos usando varios *train-test-split* "
   ]
  },
  {
   "cell_type": "code",
   "execution_count": 4,
   "metadata": {},
   "outputs": [
    {
     "name": "stdout",
     "output_type": "stream",
     "text": [
      ".. _digits_dataset:\n",
      "\n",
      "Optical recognition of handwritten digits dataset\n",
      "--------------------------------------------------\n",
      "\n",
      "**Data Set Characteristics:**\n",
      "\n",
      "    :Number of Instances: 1797\n",
      "    :Number of Attributes: 64\n",
      "    :Attribute Information: 8x8 image of integer pixels in the range 0..16.\n",
      "    :Missing Attribute Values: None\n",
      "    :Creator: E. Alpaydin (alpaydin '@' boun.edu.tr)\n",
      "    :Date: July; 1998\n",
      "\n",
      "This is a copy of the test set of the UCI ML hand-written digits datasets\n",
      "https://archive.ics.uci.edu/ml/datasets/Optical+Recognition+of+Handwritten+Digits\n",
      "\n",
      "The data set contains images of hand-written digits: 10 classes where\n",
      "each class refers to a digit.\n",
      "\n",
      "Preprocessing programs made available by NIST were used to extract\n",
      "normalized bitmaps of handwritten digits from a preprinted form. From a\n",
      "total of 43 people, 30 contributed to the training set and different 13\n",
      "to the test set. 32x32 bitmaps are divided into nonoverlapping blocks of\n",
      "4x4 and the number of on pixels are counted in each block. This generates\n",
      "an input matrix of 8x8 where each element is an integer in the range\n",
      "0..16. This reduces dimensionality and gives invariance to small\n",
      "distortions.\n",
      "\n",
      "For info on NIST preprocessing routines, see M. D. Garris, J. L. Blue, G.\n",
      "T. Candela, D. L. Dimmick, J. Geist, P. J. Grother, S. A. Janet, and C.\n",
      "L. Wilson, NIST Form-Based Handprint Recognition System, NISTIR 5469,\n",
      "1994.\n",
      "\n",
      ".. topic:: References\n",
      "\n",
      "  - C. Kaynak (1995) Methods of Combining Multiple Classifiers and Their\n",
      "    Applications to Handwritten Digit Recognition, MSc Thesis, Institute of\n",
      "    Graduate Studies in Science and Engineering, Bogazici University.\n",
      "  - E. Alpaydin, C. Kaynak (1998) Cascading Classifiers, Kybernetika.\n",
      "  - Ken Tang and Ponnuthurai N. Suganthan and Xi Yao and A. Kai Qin.\n",
      "    Linear dimensionalityreduction using relevance weighted LDA. School of\n",
      "    Electrical and Electronic Engineering Nanyang Technological University.\n",
      "    2005.\n",
      "  - Claudio Gentile. A New Approximate Maximal Margin Classification\n",
      "    Algorithm. NIPS. 2000.\n",
      "\n"
     ]
    },
    {
     "data": {
      "text/plain": [
       "array([ 0.,  0.,  5., 13.,  9.,  1.,  0.,  0.,  0.,  0., 13., 15., 10.,\n",
       "       15.,  5.,  0.,  0.,  3., 15.,  2.,  0., 11.,  8.,  0.,  0.,  4.,\n",
       "       12.,  0.,  0.,  8.,  8.,  0.,  0.,  5.,  8.,  0.,  0.,  9.,  8.,\n",
       "        0.,  0.,  4., 11.,  0.,  1., 12.,  7.,  0.,  0.,  2., 14.,  5.,\n",
       "       10., 12.,  0.,  0.,  0.,  0.,  6., 13., 10.,  0.,  0.,  0.])"
      ]
     },
     "execution_count": 4,
     "metadata": {},
     "output_type": "execute_result"
    }
   ],
   "source": [
    "from sklearn.datasets import load_digits\n",
    "digits = load_digits()\n",
    "print (digits.DESCR)\n",
    "X = digits.data\n",
    "y = digits.target\n",
    "X[0]"
   ]
  },
  {
   "cell_type": "code",
   "execution_count": 5,
   "metadata": {},
   "outputs": [
    {
     "name": "stdout",
     "output_type": "stream",
     "text": [
      "LinearSVC() -> cross validation accuracy: mean = 0.938 \\ std = 0.016\n",
      "SVC(gamma=0.001) -> cross validation accuracy: mean = 0.990 \\ std = 0.007\n",
      "SVC(kernel='poly') -> cross validation accuracy: mean = 0.988 \\ std = 0.010\n"
     ]
    }
   ],
   "source": [
    "from sklearn import svm\n",
    "from sklearn import model_selection\n",
    "import numpy as np\n",
    "\n",
    "\n",
    "# hipotesis a validar\n",
    "h1 = svm.LinearSVC(C=1.0)  # linear SVC\n",
    "h2 = svm.SVC(kernel='rbf', degree=3, gamma=0.001, C=1.0)  # Radial basis SVC\n",
    "h3 = svm.SVC(kernel='poly', degree=3, C=1.0)  # 3rd degree polynomial SVC\n",
    "\n",
    "choosen_random_state = 1\n",
    "cv_folds = 10  # Try 3, 5 or 20\n",
    "eval_scoring = 'accuracy'  # Try also f1\n",
    "workers = -1  # this will use all your CPU power\n",
    "X_train, X_test, y_train, y_test = model_selection.train_test_split(\n",
    "    X, y, test_size=0.30, random_state=choosen_random_state)\n",
    "\n",
    "    \n",
    "for hypothesis in [h1, h2, h3]:\n",
    "    scores = model_selection.cross_val_score(\n",
    "        hypothesis, X_train, y_train, cv=cv_folds, scoring=eval_scoring, n_jobs=workers)\n",
    "    print(\"%s -> cross validation accuracy: mean = %0.3f \\ std = %0.3f\"\n",
    "          % (hypothesis, np.mean(scores), np.std(scores)))\n"
   ]
  },
  {
   "cell_type": "markdown",
   "metadata": {},
   "source": [
    "## cross-validation iterators"
   ]
  },
  {
   "cell_type": "markdown",
   "metadata": {},
   "source": [
    "*   **KFold** es bastante simple en su funcionalidad. Si se da n-número de pliegues, devuelve n iteraciones a los índices de los conjuntos de entrenamiento y validación para la prueba de cada pliegue.\n",
    "*   **StratifiedKFold** funciona comoK fold , pero siempre devuelve pliegues con aproximadamente el mismo porcentaje de clases que el conjunto de entrenamiento. En lugar del número de casos, como parámetro de entrada, necesita la variable\n",
    "objetivo y. Es el iterador que se envuelve, por defecto, en la función `cross_val_score`, como vimos en la sección anterior.\n",
    "*   **LeaveOneOut** funciona como Kfold , pero devuelve como conjunto de validación una sola observación. Por lo tanto, al final, el número de pliegues será equivalente al número de ejemplos del conjunto de entrenamiento. Le recomendamos que utilice este enfoque de validación cruzada sólo cuando el conjunto de entrenamiento esté muy desequilibrado (como en los problemas de detección de fraudes) o sea muy pequeño, especialmente si hay menos de 100 observaciones: una validación de k pliegues reduciría mucho el conjunto de entrenamiento.\n",
    "*   **LeavePOut** es similar en cuanto a las ventajas y limitaciones de **LeaveOneOut**, pero su conjunto de validación se compone de P casos.Por lo tanto, el número de pliegues totales será la combinación de P casos de todos los casos disponibles (que en realidad podría serun número bastante grande a medida que el tamaño de su conjunto de datos crece).\n",
    "\n",
    "Para saber más sobre  cada iterador[[página oficial Scikit-learn](http://scikit-learn.org/stable/modules/classes.html#module-sklearn.cross_validation)] "
   ]
  },
  {
   "cell_type": "markdown",
   "metadata": {},
   "source": [
    "## Bootstrapping :\n",
    "funciona mediante elmuestreo con reemplazo (es decir, permitiendo la repetición de la misma\n",
    "observación), y tenemos que tener cuidado con esto pues pueden existir los mismos datos en el conjunto de train com oen el de test"
   ]
  },
  {
   "cell_type": "markdown",
   "metadata": {},
   "source": [
    "Una implementacion sencilla sustituto de **Bootstrap** que es adecuado para la validación cruzada y que puede ser\n",
    "llamado por una iteración. Genera un bootstrap de muestra del mismo tamaño que los datos de entrada (la longitud de los índices) y una lista de los índices excluidos (fuera de la muestra) que podrían utilizarse para las pruebas: "
   ]
  },
  {
   "cell_type": "code",
   "execution_count": 6,
   "metadata": {},
   "outputs": [
    {
     "name": "stdout",
     "output_type": "stream",
     "text": [
      "[4, 18, 2, 8, 3, 15, 14, 15, 12, 6, 3, 15, 0, 12, 13, 19, 0, 14, 8, 7] [1, 5, 9, 10, 11, 16, 17] \n",
      "\n",
      "[18, 3, 10, 0, 0, 0, 17, 0, 12, 6, 13, 0, 16, 7, 14, 15, 17, 7, 11, 7] [1, 2, 4, 5, 8, 9, 19] \n",
      "\n"
     ]
    }
   ],
   "source": [
    "import random\n",
    "\n",
    "\n",
    "def Bootstrap(n, n_iter=3, random_state=None):\n",
    "    \"\"\"\n",
    "    Random sampling with replacement cross-validation generator.\n",
    "    For each iter a sample bootstrap of the indexes [0, n) is \n",
    "    generated and the function returns the obtained sample \n",
    "    and a list of all the excluded indexes.\n",
    "    \"\"\"\n",
    "\n",
    "    if random_state:\n",
    "        random.seed(random_state)\n",
    "    for j in range(n_iter):\n",
    "        bs = [random.randint(0, n-1) for i in range(n)]\n",
    "\n",
    "        # crear un set con todos los indicies y restarle los que ya pertenecen a las muestra\n",
    "        out_bs = list({i for i in range(n)} - set(bs))\n",
    "\n",
    "        yield bs, out_bs\n",
    "\n",
    "\n",
    "boot = Bootstrap(n=20, n_iter=2, random_state=1)\n",
    "for train_idx, validation_idx in boot:\n",
    "    print(train_idx, validation_idx, \"\\n\")\n"
   ]
  },
  {
   "cell_type": "markdown",
   "metadata": {},
   "source": [
    "## Hyperparameter optimization with cross-validation (`GridSearchCV()`)"
   ]
  },
  {
   "cell_type": "code",
   "execution_count": 7,
   "metadata": {},
   "outputs": [
    {
     "name": "stdout",
     "output_type": "stream",
     "text": [
      "5.15 s ± 589 ms per loop (mean ± std. dev. of 7 runs, 1 loop each)\n",
      "SVC(C=10, gamma=0.001)\n",
      "{'C': 10, 'gamma': 0.001, 'kernel': 'rbf'}\n",
      "0.9810738671632526\n"
     ]
    }
   ],
   "source": [
    "from sklearn import model_selection\n",
    "from sklearn import svm\n",
    "from sklearn.datasets import load_digits\n",
    "digits = load_digits()\n",
    "X, y = digits.data, digits.target\n",
    "\n",
    "h = svm.SVC()\n",
    "search_grid = [\n",
    "    {'C': [1, 10, 100, 1000], 'kernel': ['linear']},  # kernel lineal no usa gamma\n",
    "    {'C': [1, 10, 100, 1000], 'gamma': [0.001, 0.0001], 'kernel': ['rbf']},\n",
    "]\n",
    "\n",
    "\n",
    "search_func = model_selection.GridSearchCV(\n",
    "    estimator=h, param_grid=search_grid, scoring='accuracy', n_jobs=-1, refit=True, cv=10)\n",
    "# refit=True para que la función se ajuste a todo el conjunto de entrenamiento, utilizando los\n",
    "# parámetros del mejor estimador y poder usar *search_funct.predict()* a datos frescos para\n",
    "# obtener nuevas predicciones\n",
    "\n",
    "%timeit search_func.fit(X, y)\n",
    "print(search_func.best_estimator_)\n",
    "print(search_func.best_params_)\n",
    "print(search_func.best_score_)\n"
   ]
  },
  {
   "cell_type": "markdown",
   "metadata": {},
   "source": [
    "## Reducing grid search run time"
   ]
  },
  {
   "cell_type": "markdown",
   "metadata": {},
   "source": [
    "La función `GridSearchCV` puede realmente gestionar una gran cantidad de trabajo para usted pero cuando el espaciode búsqueda de datos o de la cuadrícula es grande, el procedimiento puede tardar mucho tiempo en calcularse. Una alternativa es el uso de `model_selection.RandomizedSearchCV` que  extrae aleatoriamente una muestra de combinaciones e informa de la mejor combinación encontrada y ademas se puede limitar el numero de iteraciones."
   ]
  },
  {
   "cell_type": "code",
   "execution_count": 8,
   "metadata": {},
   "outputs": [
    {
     "name": "stdout",
     "output_type": "stream",
     "text": [
      "3.57 s ± 724 ms per loop (mean ± std. dev. of 7 runs, 1 loop each)\n",
      "SVC(C=1, gamma=0.001)\n",
      "{'kernel': 'rbf', 'gamma': 0.001, 'C': 1}\n",
      "0.9782929857231533\n"
     ]
    }
   ],
   "source": [
    "search_dict = {'kernel': ['linear', 'rbf'], 'C': [1, 10, 100, 1000], 'gamma': [0.001, 0.0001]}\n",
    "scorer = 'accuracy'\n",
    "search_func = model_selection.RandomizedSearchCV(estimator=h,\n",
    "                                                 param_distributions=search_dict,\n",
    "                                                 n_iter=7,\n",
    "                                                 scoring=scorer,\n",
    "                                                 n_jobs=-1,\n",
    "                                                 refit=True,\n",
    "                                                 cv=10,\n",
    "                                                 return_train_score=False)\n",
    "%timeit search_func.fit(X, y)\n",
    "print(search_func.best_estimator_)\n",
    "print(search_func.best_params_)\n",
    "print(search_func.best_score_)\n"
   ]
  },
  {
   "cell_type": "code",
   "execution_count": 9,
   "metadata": {},
   "outputs": [
    {
     "name": "stdout",
     "output_type": "stream",
     "text": [
      "(0.9604872749844816, 0.02132561342779354, {'kernel': 'linear', 'gamma': 0.001, 'C': 10})\n",
      "(0.9699441340782122, 0.025403123263944748, {'kernel': 'rbf', 'gamma': 0.0001, 'C': 10})\n",
      "(0.9604872749844816, 0.02132561342779354, {'kernel': 'linear', 'gamma': 0.0001, 'C': 1})\n",
      "(0.9604872749844816, 0.02132561342779354, {'kernel': 'linear', 'gamma': 0.001, 'C': 1000})\n",
      "(0.9705027932960893, 0.02023224691609209, {'kernel': 'rbf', 'gamma': 0.0001, 'C': 100})\n",
      "(0.9604872749844816, 0.02132561342779354, {'kernel': 'linear', 'gamma': 0.0001, 'C': 10})\n",
      "(0.9782929857231533, 0.01766901739189916, {'kernel': 'rbf', 'gamma': 0.001, 'C': 1})\n"
     ]
    }
   ],
   "source": [
    "# mostrar los resultados de cada iteracion \n",
    "res = search_func.cv_results_\n",
    "for el in zip(res['mean_test_score'], res['std_test_score'], res['params']):\n",
    "    print(el)"
   ]
  },
  {
   "cell_type": "markdown",
   "metadata": {},
   "source": [
    "Recurrir a la optimización basada en procesos aleatorios puede parecer que se basa en\n",
    "busqueda ciega, pero en realidad es una forma muy eficiente de explorar el espacio de los hiperparámetros, especialmente cuando se trata de unespacio de alta dimensión"
   ]
  }
 ],
 "metadata": {
  "kernelspec": {
   "display_name": "Python 3.10.4 64-bit",
   "language": "python",
   "name": "python3"
  },
  "language_info": {
   "codemirror_mode": {
    "name": "ipython",
    "version": 3
   },
   "file_extension": ".py",
   "mimetype": "text/x-python",
   "name": "python",
   "nbconvert_exporter": "python",
   "pygments_lexer": "ipython3",
   "version": "3.10.4"
  },
  "orig_nbformat": 4,
  "vscode": {
   "interpreter": {
    "hash": "37964de45fa06bc99b754cfc54b483ffac9c133df6b16baa187ef33bd89a6318"
   }
  }
 },
 "nbformat": 4,
 "nbformat_minor": 2
}
